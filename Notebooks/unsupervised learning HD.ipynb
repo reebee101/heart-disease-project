{
 "cells": [
  {
   "cell_type": "code",
   "execution_count": null,
   "id": "c0b85ac0",
   "metadata": {},
   "outputs": [],
   "source": [
    "from sklearn.cluster import KMeans, AgglomerativeClustering\n",
    "from scipy.cluster.hierarchy import dendrogram, linkage\n",
    "from sklearn.metrics import adjusted_rand_score, normalized_mutual_info_score\n",
    "\n",
    "X_scaled = scaler.fit_transform(X)\n",
    "\n",
    "inertia = []\n",
    "K_range = range(1, 11)\n",
    "\n",
    "for k in K_range:\n",
    "    kmeans = KMeans(n_clusters=k, random_state=42, n_init=10)\n",
    "    kmeans.fit(X_scaled)\n",
    "    inertia.append(kmeans.inertia_)\n",
    "    \n",
    "plt.figure(figsize=(6,4))\n",
    "plt.plot(K_range, inertia, \"bo-\")\n",
    "plt.xlabel(\"Number of Clusters (k)\")\n",
    "plt.ylabel(\"Inertia\")\n",
    "plt.title(\"Elbow Method for Optimal k\")\n",
    "plt.show()\n",
    "\n",
    "kmeans = KMeans(n_clusters=2, random_state=42, n_init=10)\n",
    "kmeans_labels = kmeans.fit_predict(X_scaled)\n"
   ]
  },
  {
   "cell_type": "code",
   "execution_count": null,
   "id": "91a1fcda",
   "metadata": {},
   "outputs": [],
   "source": [
    "linked = linkage(X_scaled, method=\"ward\")\n",
    "\n",
    "plt.figure(figsize=(10,6))\n",
    "dendrogram(linked, truncate_mode=\"level\", p=5)\n",
    "plt.title(\"Hierarchical Clustering Dendrogram\")\n",
    "plt.xlabel(\"Data Points\")\n",
    "plt.ylabel(\"Distance\")\n",
    "plt.show()\n",
    "\n",
    "hc = AgglomerativeClustering(n_clusters=2, linkage=\"ward\")\n",
    "hc_labels = hc.fit_predict(X_scaled)"
   ]
  },
  {
   "cell_type": "code",
   "execution_count": null,
   "id": "22511b2c",
   "metadata": {},
   "outputs": [],
   "source": [
    "print(\"\\nCluster vs Actual Comparison:\")\n",
    "\n",
    "# KMeans\n",
    "ari_kmeans = adjusted_rand_score(y, kmeans_labels)\n",
    "nmi_kmeans = normalized_mutual_info_score(y, kmeans_labels)\n",
    "\n",
    "print(f\"K-Means → Adjusted Rand Index: {ari_kmeans:.3f}, Normalized Mutual Info: {nmi_kmeans:.3f}\")\n",
    "\n",
    "# Hierarchical\n",
    "ari_hc = adjusted_rand_score(y, hc_labels)\n",
    "nmi_hc = normalized_mutual_info_score(y, hc_labels)\n",
    "\n",
    "print(f\"Hierarchical → Adjusted Rand Index: {ari_hc:.3f}, Normalized Mutual Info: {nmi_hc:.3f}\")"
   ]
  }
 ],
 "metadata": {
  "language_info": {
   "name": "python"
  }
 },
 "nbformat": 4,
 "nbformat_minor": 5
}
