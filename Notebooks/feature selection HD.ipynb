{
 "cells": [
  {
   "cell_type": "code",
   "execution_count": null,
   "id": "d315d06a",
   "metadata": {},
   "outputs": [],
   "source": [
    "from sklearn.model_selection import train_test_split\n",
    "from sklearn.ensemble import RandomForestClassifier\n",
    "from sklearn.feature_selection import RFE, chi2, SelectKBest\n",
    "from xgboost import XGBClassifier\n",
    "\n",
    "df[\"num\"] = df[\"num\"].apply(lambda x: 1 if x > 0 else 0)\n",
    "X = df.drop(\"num\", axis=1)  # adjust if your target column has a different name\n",
    "y = df[\"num\"]\n",
    "X = pd.get_dummies(X, drop_first=True)\n",
    "\n",
    "rf = RandomForestClassifier(random_state=42)\n",
    "rf.fit(X,y)\n",
    "rf_importances = pd.Series(rf.feature_importances_, index=X.columns).sort_values(ascending=False)\n",
    "\n",
    "print(\"Random Forest Feature Importance:\\n\", rf_importances)\n"
   ]
  },
  {
   "cell_type": "code",
   "execution_count": null,
   "id": "2b5e5072",
   "metadata": {},
   "outputs": [],
   "source": [
    "xgb = XGBClassifier(use_label_encoder=False, eval_metric=\"logloss\", random_state=42)\n",
    "xgb.fit(X, y)\n",
    "xgb_importances = pd.Series(xgb.feature_importances_, index=X.columns).sort_values(ascending=False)\n",
    "\n",
    "print(\"\\nXGBoost Feature Importance:\\n\", xgb_importances)\n"
   ]
  },
  {
   "cell_type": "code",
   "execution_count": null,
   "id": "da382c90",
   "metadata": {},
   "outputs": [],
   "source": [
    "rf_importances.plot(kind=\"bar\", title=\"Random Forest Feature Importance\")\n",
    "plt.show()\n",
    "xgb_importances.plot(kind=\"bar\", title=\"XGBoost Feature Importance\")\n",
    "plt.show()"
   ]
  },
  {
   "cell_type": "code",
   "execution_count": null,
   "id": "aa8ef47b",
   "metadata": {},
   "outputs": [],
   "source": [
    "rfe_selector = RFE(estimator=RandomForestClassifier(random_state=42), n_features_to_select=8)\n",
    "rfe_selector = rfe_selector.fit(X, y)\n",
    "rfe_features = X.columns[rfe_selector.support_]\n",
    "\n",
    "print(\"\\nSelected Features by RFE:\", list(rfe_features))\n"
   ]
  },
  {
   "cell_type": "code",
   "execution_count": null,
   "id": "b7a0f796",
   "metadata": {},
   "outputs": [],
   "source": [
    "scaler = MinMaxScaler()\n",
    "X_scaled = scaler.fit_transform(X)  # chi2 requires non-negative values\n",
    "chi2_selector = SelectKBest(chi2, k=8)\n",
    "chi2_selector.fit(X_scaled, y)\n",
    "chi2_features = X.columns[chi2_selector.get_support()]\n",
    "\n",
    "print(\"\\nSelected Features by Chi-Square Test:\", list(chi2_features))"
   ]
  },
  {
   "cell_type": "code",
   "execution_count": null,
   "id": "fd474a36",
   "metadata": {},
   "outputs": [],
   "source": [
    "final_features = set(rf_importances.head(8).index) | set(xgb_importances.head(8).index) | set(rfe_features) | set(chi2_features)\n",
    "print(\"\\nFinal Selected Features for Modeling:\", list(final_features))"
   ]
  }
 ],
 "metadata": {
  "language_info": {
   "name": "python"
  }
 },
 "nbformat": 4,
 "nbformat_minor": 5
}
